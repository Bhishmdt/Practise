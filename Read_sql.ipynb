{
 "cells": [
  {
   "cell_type": "code",
   "execution_count": 1,
   "metadata": {},
   "outputs": [],
   "source": [
    "import mysql.connector\n",
    "from mysql.connector import Error\n",
    "import pandas as pd"
   ]
  },
  {
   "cell_type": "code",
   "execution_count": 6,
   "metadata": {},
   "outputs": [],
   "source": [
    "def create_server_connection(host_name, user_name, user_password, db_name):\n",
    "    connection = None\n",
    "    try:\n",
    "        connection = mysql.connector.connect(\n",
    "            host=host_name,\n",
    "            user=user_name,\n",
    "            passwd=user_password,\n",
    "            database = db_name\n",
    "        )\n",
    "        print(\"MySQL Database connection successful\")\n",
    "    except Error as err:\n",
    "        print(f\"Error: '{err}'\")\n",
    "\n",
    "    return connection"
   ]
  },
  {
   "cell_type": "code",
   "execution_count": 37,
   "metadata": {},
   "outputs": [
    {
     "name": "stdout",
     "output_type": "stream",
     "text": [
      "MySQL Database connection successful\n"
     ]
    }
   ],
   "source": [
    "connection = create_server_connection('localhost', 'root', \"\", 'employees')"
   ]
  },
  {
   "cell_type": "code",
   "execution_count": 12,
   "metadata": {},
   "outputs": [],
   "source": [
    "def read_query(connection, query):\n",
    "    cursor = connection.cursor()\n",
    "    result = None\n",
    "    try:\n",
    "        cursor.execute(query)\n",
    "        result = cursor.fetchall()\n",
    "        return result\n",
    "    except Error as err:\n",
    "        print(f\"Error: '{err}'\")"
   ]
  },
  {
   "cell_type": "code",
   "execution_count": 41,
   "metadata": {},
   "outputs": [],
   "source": [
    "q1 = \"\"\"\n",
    "SELECT * \n",
    "FROM dept_manager\n",
    "ORDER BY dept_no;\n",
    "\"\"\""
   ]
  },
  {
   "cell_type": "code",
   "execution_count": 42,
   "metadata": {},
   "outputs": [],
   "source": [
    "results = read_query(connection, q1)"
   ]
  },
  {
   "cell_type": "code",
   "execution_count": 43,
   "metadata": {},
   "outputs": [
    {
     "name": "stdout",
     "output_type": "stream",
     "text": [
      "(110039, 'd001', datetime.date(1991, 10, 1), datetime.date(9999, 1, 1))\n",
      "(110022, 'd001', datetime.date(1985, 1, 1), datetime.date(1991, 10, 1))\n",
      "(110085, 'd002', datetime.date(1985, 1, 1), datetime.date(1989, 12, 17))\n",
      "(110114, 'd002', datetime.date(1989, 12, 17), datetime.date(9999, 1, 1))\n",
      "(110183, 'd003', datetime.date(1985, 1, 1), datetime.date(1992, 3, 21))\n",
      "(110228, 'd003', datetime.date(1992, 3, 21), datetime.date(9999, 1, 1))\n",
      "(110303, 'd004', datetime.date(1985, 1, 1), datetime.date(1988, 9, 9))\n",
      "(110344, 'd004', datetime.date(1988, 9, 9), datetime.date(1992, 8, 2))\n",
      "(110386, 'd004', datetime.date(1992, 8, 2), datetime.date(1996, 8, 30))\n",
      "(110420, 'd004', datetime.date(1996, 8, 30), datetime.date(9999, 1, 1))\n",
      "(110511, 'd005', datetime.date(1985, 1, 1), datetime.date(1992, 4, 25))\n",
      "(110567, 'd005', datetime.date(1992, 4, 25), datetime.date(9999, 1, 1))\n",
      "(110725, 'd006', datetime.date(1985, 1, 1), datetime.date(1989, 5, 6))\n",
      "(110854, 'd006', datetime.date(1994, 6, 28), datetime.date(9999, 1, 1))\n",
      "(110800, 'd006', datetime.date(1991, 9, 12), datetime.date(1994, 6, 28))\n",
      "(110765, 'd006', datetime.date(1989, 5, 6), datetime.date(1991, 9, 12))\n",
      "(111035, 'd007', datetime.date(1985, 1, 1), datetime.date(1991, 3, 7))\n",
      "(111133, 'd007', datetime.date(1991, 3, 7), datetime.date(9999, 1, 1))\n",
      "(111400, 'd008', datetime.date(1985, 1, 1), datetime.date(1991, 4, 8))\n",
      "(111534, 'd008', datetime.date(1991, 4, 8), datetime.date(9999, 1, 1))\n",
      "(111692, 'd009', datetime.date(1985, 1, 1), datetime.date(1988, 10, 17))\n",
      "(111784, 'd009', datetime.date(1988, 10, 17), datetime.date(1992, 9, 8))\n",
      "(111877, 'd009', datetime.date(1992, 9, 8), datetime.date(1996, 1, 3))\n",
      "(111939, 'd009', datetime.date(1996, 1, 3), datetime.date(9999, 1, 1))\n"
     ]
    }
   ],
   "source": [
    "for result in results:\n",
    "    print(result)"
   ]
  },
  {
   "cell_type": "code",
   "execution_count": 22,
   "metadata": {},
   "outputs": [],
   "source": [
    "q2 = \"\"\"\n",
    "SELECT\n",
    "    *\n",
    "FROM\n",
    "    employees\n",
    "LIMIT 10;\n",
    "\"\"\""
   ]
  },
  {
   "cell_type": "code",
   "execution_count": 23,
   "metadata": {},
   "outputs": [],
   "source": [
    "results = read_query(connection, q2)"
   ]
  },
  {
   "cell_type": "code",
   "execution_count": 24,
   "metadata": {},
   "outputs": [
    {
     "name": "stdout",
     "output_type": "stream",
     "text": [
      "(10001, datetime.date(1953, 9, 2), 'Georgi', 'Facello', 'M', datetime.date(1986, 6, 26))\n",
      "(10002, datetime.date(1964, 6, 2), 'Bezalel', 'Simmel', 'F', datetime.date(1985, 11, 21))\n",
      "(10003, datetime.date(1959, 12, 3), 'Parto', 'Bamford', 'M', datetime.date(1986, 8, 28))\n",
      "(10004, datetime.date(1954, 5, 1), 'Chirstian', 'Koblick', 'M', datetime.date(1986, 12, 1))\n",
      "(10005, datetime.date(1955, 1, 21), 'Kyoichi', 'Maliniak', 'M', datetime.date(1989, 9, 12))\n",
      "(10006, datetime.date(1953, 4, 20), 'Anneke', 'Preusig', 'F', datetime.date(1989, 6, 2))\n",
      "(10007, datetime.date(1957, 5, 23), 'Tzvetan', 'Zielinski', 'F', datetime.date(1989, 2, 10))\n",
      "(10008, datetime.date(1958, 2, 19), 'Saniya', 'Kalloufi', 'M', datetime.date(1994, 9, 15))\n",
      "(10009, datetime.date(1952, 4, 19), 'Sumant', 'Peac', 'F', datetime.date(1985, 2, 18))\n",
      "(10010, datetime.date(1963, 6, 1), 'Duangkaew', 'Piveteau', 'F', datetime.date(1989, 8, 24))\n"
     ]
    }
   ],
   "source": [
    "for result in results:\n",
    "    print(result)"
   ]
  },
  {
   "cell_type": "code",
   "execution_count": 26,
   "metadata": {},
   "outputs": [],
   "source": [
    "def execute_query(connection, query):\n",
    "    cursor = connection.cursor()\n",
    "    try:\n",
    "        cursor.execute(query)\n",
    "        connection.commit()\n",
    "        print(\"Query successful\")\n",
    "    except Error as err:\n",
    "        print(f\"Error: '{err}'\")"
   ]
  },
  {
   "cell_type": "code",
   "execution_count": 34,
   "metadata": {},
   "outputs": [],
   "source": [
    "drop_exists = \"\"\"\n",
    "DROP TABLE IF EXISTS dept_manager_dup;\n",
    "\"\"\""
   ]
  },
  {
   "cell_type": "code",
   "execution_count": 35,
   "metadata": {},
   "outputs": [],
   "source": [
    "create_table = \"\"\"\n",
    "CREATE TABLE dept_manager_dup (\n",
    "    emp_no INT(11) NOT NULL,\n",
    "    dept_no CHAR(4),\n",
    "    from_date DATE NOT NULL,\n",
    "    to_date DATE\n",
    ");\n",
    "\"\"\""
   ]
  },
  {
   "cell_type": "code",
   "execution_count": 38,
   "metadata": {},
   "outputs": [
    {
     "name": "stdout",
     "output_type": "stream",
     "text": [
      "Query successful\n",
      "Query successful\n"
     ]
    }
   ],
   "source": [
    "execute_query(connection, drop_exists)\n",
    "execute_query(connection, create_table)"
   ]
  },
  {
   "cell_type": "code",
   "execution_count": 39,
   "metadata": {},
   "outputs": [],
   "source": [
    "copy_from_dept_manager = \"\"\"\n",
    "INSERT INTO dept_manager_dup\n",
    "SELECT \n",
    "    * \n",
    "FROM dept_manager\n",
    "WHERE dept_no < 'd006';\n",
    "\"\"\""
   ]
  },
  {
   "cell_type": "code",
   "execution_count": 40,
   "metadata": {},
   "outputs": [
    {
     "name": "stdout",
     "output_type": "stream",
     "text": [
      "Query successful\n"
     ]
    }
   ],
   "source": [
    "execute_query(connection, copy_from_dept_manager)"
   ]
  },
  {
   "cell_type": "code",
   "execution_count": 44,
   "metadata": {},
   "outputs": [],
   "source": [
    "q3 = \"\"\"\n",
    "SELECT * \n",
    "FROM dept_manager_dup\n",
    "ORDER BY dept_no;\n",
    "\"\"\""
   ]
  },
  {
   "cell_type": "code",
   "execution_count": 45,
   "metadata": {},
   "outputs": [
    {
     "name": "stdout",
     "output_type": "stream",
     "text": [
      "(110022, 'd001', datetime.date(1985, 1, 1), datetime.date(1991, 10, 1))\n",
      "(110039, 'd001', datetime.date(1991, 10, 1), datetime.date(9999, 1, 1))\n",
      "(110085, 'd002', datetime.date(1985, 1, 1), datetime.date(1989, 12, 17))\n",
      "(110114, 'd002', datetime.date(1989, 12, 17), datetime.date(9999, 1, 1))\n",
      "(110183, 'd003', datetime.date(1985, 1, 1), datetime.date(1992, 3, 21))\n",
      "(110228, 'd003', datetime.date(1992, 3, 21), datetime.date(9999, 1, 1))\n",
      "(110303, 'd004', datetime.date(1985, 1, 1), datetime.date(1988, 9, 9))\n",
      "(110344, 'd004', datetime.date(1988, 9, 9), datetime.date(1992, 8, 2))\n",
      "(110386, 'd004', datetime.date(1992, 8, 2), datetime.date(1996, 8, 30))\n",
      "(110420, 'd004', datetime.date(1996, 8, 30), datetime.date(9999, 1, 1))\n",
      "(110511, 'd005', datetime.date(1985, 1, 1), datetime.date(1992, 4, 25))\n",
      "(110567, 'd005', datetime.date(1992, 4, 25), datetime.date(9999, 1, 1))\n"
     ]
    }
   ],
   "source": [
    "results = read_query(connection, q3)\n",
    "for result in results:\n",
    "    print(result)"
   ]
  },
  {
   "cell_type": "code",
   "execution_count": null,
   "metadata": {},
   "outputs": [],
   "source": []
  }
 ],
 "metadata": {
  "kernelspec": {
   "display_name": "Python 3",
   "language": "python",
   "name": "python3"
  },
  "language_info": {
   "codemirror_mode": {
    "name": "ipython",
    "version": 3
   },
   "file_extension": ".py",
   "mimetype": "text/x-python",
   "name": "python",
   "nbconvert_exporter": "python",
   "pygments_lexer": "ipython3",
   "version": "3.8.5"
  }
 },
 "nbformat": 4,
 "nbformat_minor": 4
}
