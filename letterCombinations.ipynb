{
 "cells": [
  {
   "cell_type": "code",
   "execution_count": 2,
   "metadata": {},
   "outputs": [],
   "source": [
    "def letterCombinations(digits):\n",
    "        result = set('')\n",
    "        curr = set()\n",
    "        mapper = {'2':'abc','3':'def','4':'ghi','5':'jkl','6':'mno','7':'pqrs','8':'tuv','9':'wxyz'}\n",
    "        for d in digits:\n",
    "            chars = mapper.get(d)\n",
    "            if result:\n",
    "                for e in result:\n",
    "                    for c in chars:\n",
    "                        curr.add(e + c)\n",
    "            else:\n",
    "                for c in chars:\n",
    "                    curr.add(c)\n",
    "            result = curr\n",
    "            curr = set()\n",
    "        return result"
   ]
  },
  {
   "cell_type": "code",
   "execution_count": 3,
   "metadata": {},
   "outputs": [
    {
     "data": {
      "text/plain": [
       "{'ad', 'ae', 'af', 'bd', 'be', 'bf', 'cd', 'ce', 'cf'}"
      ]
     },
     "execution_count": 3,
     "metadata": {},
     "output_type": "execute_result"
    }
   ],
   "source": [
    "letterCombinations('23')"
   ]
  },
  {
   "cell_type": "code",
   "execution_count": null,
   "metadata": {},
   "outputs": [],
   "source": []
  }
 ],
 "metadata": {
  "kernelspec": {
   "display_name": "Python 3",
   "language": "python",
   "name": "python3"
  },
  "language_info": {
   "codemirror_mode": {
    "name": "ipython",
    "version": 3
   },
   "file_extension": ".py",
   "mimetype": "text/x-python",
   "name": "python",
   "nbconvert_exporter": "python",
   "pygments_lexer": "ipython3",
   "version": "3.8.5"
  }
 },
 "nbformat": 4,
 "nbformat_minor": 4
}
